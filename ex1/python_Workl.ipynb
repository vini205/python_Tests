{
  "nbformat": 4,
  "nbformat_minor": 0,
  "metadata": {
    "colab": {
      "name": "python_Workl.ipynb",
      "provenance": [],
      "collapsed_sections": [],
      "authorship_tag": "ABX9TyN03buS/kZMLBvoI/YhKpW4",
      "include_colab_link": true
    },
    "kernelspec": {
      "name": "python3",
      "display_name": "Python 3"
    },
    "language_info": {
      "name": "python"
    }
  },
  "cells": [
    {
      "cell_type": "markdown",
      "metadata": {
        "id": "view-in-github",
        "colab_type": "text"
      },
      "source": [
        "<a href=\"https://colab.research.google.com/github/vini205/python_Tests/blob/main/python_Workl.ipynb\" target=\"_parent\"><img src=\"https://colab.research.google.com/assets/colab-badge.svg\" alt=\"Open In Colab\"/></a>"
      ]
    },
    {
      "cell_type": "markdown",
      "source": [
        "## Lição 01"
      ],
      "metadata": {
        "id": "KBhqecMTIUKm"
      }
    },
    {
      "cell_type": "code",
      "execution_count": null,
      "metadata": {
        "id": "1nz8oFdjAX0w"
      },
      "outputs": [],
      "source": [
        "print('Bem vindo a loja do Vinícius')\n",
        "valor = input('Valor do produto:')\n",
        "qtd = input('Quantidade do Produto:')\n",
        "valor=float(valor)\n",
        "qtd =int(qtd)\n",
        "\n",
        "if(qtd<=4):\n",
        "  total= valor*qtd \n",
        "  print(f'O valor sem desconto foi: R$ {total}')\n",
        "  print(f'O valor com desconto foi: R$ {total} (com 0% de desconto)')\n",
        "elif(qtd>4 and qtd<=19):\n",
        "  desc= valor*0.03\n",
        "  valorFinal=valor-desc\n",
        "  total= valorFinal*qtd\n",
        "  print(desc,valorFinal,total) \n",
        "  print(f'O valor sem desconto foi: R${valorFinal}')\n",
        "  print(f'O valor com desconto foi: R$ {total} (com 3% de desconto)')\n",
        "elif(qtd<=20 and qtd<=99):\n",
        "  desc= valor*0.06\n",
        "  valorFinal=valor-desc\n",
        "  total= valorFinal*qtd \n",
        "  print(f'O valor sem desconto foi: R$ {valorFinal}')\n",
        "  print(f'O valor com desconto foi: R$ {total} (com 6% de desconto)')\n",
        "else:\n",
        "  desc= valor*0.1\n",
        "  valorFinal=valor-desc\n",
        "  total= valorFinal*qtd \n",
        "  print(f'O valor sem desconto foi: R$ {valorFinal}')\n",
        "  print(f'O valor com desconto foi: R$ {total} (com 10% de desconto)')\n",
        "\n",
        "\n",
        "    \n",
        "\n",
        "\n"
      ]
    },
    {
      "cell_type": "markdown",
      "source": [
        "## Lição 02"
      ],
      "metadata": {
        "id": "QgeOEbNzIbA1"
      }
    },
    {
      "cell_type": "code",
      "source": [
        ""
      ],
      "metadata": {
        "id": "r8Fj46ArIfFu"
      },
      "execution_count": null,
      "outputs": []
    }
  ]
}